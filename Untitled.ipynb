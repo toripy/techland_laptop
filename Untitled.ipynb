{
 "cells": [
  {
   "cell_type": "code",
   "execution_count": 1,
   "id": "745f3a97-57e2-45fc-8a4d-6a475b18588a",
   "metadata": {},
   "outputs": [],
   "source": [
    "import pandas as pd"
   ]
  },
  {
   "cell_type": "code",
   "execution_count": 4,
   "id": "c5779c65-322f-42d3-9f40-c2e4473d30df",
   "metadata": {},
   "outputs": [],
   "source": [
    "df = pd.read_csv('laptops_data.csv')"
   ]
  },
  {
   "cell_type": "code",
   "execution_count": 7,
   "id": "57726715-6117-431e-b4a5-40049e0e67e3",
   "metadata": {},
   "outputs": [
    {
     "data": {
      "text/plain": [
       "0       https://www.techlandbd.com/asus-rog-strix-g15-...\n",
       "1       https://www.techlandbd.com/lenovo-ideapad-slim...\n",
       "2       https://www.techlandbd.com/lenovo-ideapad-flex...\n",
       "3       https://www.techlandbd.com/apple-macbook-pro-m...\n",
       "4       https://www.techlandbd.com/lenovo-ideapad-slim...\n",
       "                              ...                        \n",
       "1319    https://www.techlandbd.com/acer-one-14-z2-493-...\n",
       "1320    https://www.techlandbd.com/acer-swift-3x-sf314...\n",
       "1321    https://www.techlandbd.com/acer-nitro-5-an515-...\n",
       "1322    https://www.techlandbd.com/acer-extensa-15-ex2...\n",
       "1323    https://www.techlandbd.com/acer-extensa-15-ex2...\n",
       "Name: url, Length: 1324, dtype: object"
      ]
     },
     "execution_count": 7,
     "metadata": {},
     "output_type": "execute_result"
    }
   ],
   "source": [
    "df.url"
   ]
  },
  {
   "cell_type": "code",
   "execution_count": null,
   "id": "cb363939-7935-4c4f-886c-48f2140bdd8f",
   "metadata": {},
   "outputs": [],
   "source": []
  }
 ],
 "metadata": {
  "kernelspec": {
   "display_name": "Python 3 (ipykernel)",
   "language": "python",
   "name": "python3"
  },
  "language_info": {
   "codemirror_mode": {
    "name": "ipython",
    "version": 3
   },
   "file_extension": ".py",
   "mimetype": "text/x-python",
   "name": "python",
   "nbconvert_exporter": "python",
   "pygments_lexer": "ipython3",
   "version": "3.10.6"
  }
 },
 "nbformat": 4,
 "nbformat_minor": 5
}
